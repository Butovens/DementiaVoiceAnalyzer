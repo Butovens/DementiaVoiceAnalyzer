{
 "cells": [
  {
   "cell_type": "code",
   "execution_count": 1,
   "metadata": {},
   "outputs": [],
   "source": [
    "import torch\n",
    "import torch.nn as nn\n",
    "import torch.optim as optim\n",
    "from torch.utils.data import DataLoader, TensorDataset\n",
    "from sklearn.model_selection import train_test_split\n",
    "import numpy as np"
   ]
  },
  {
   "cell_type": "code",
   "execution_count": 2,
   "metadata": {},
   "outputs": [],
   "source": [
    "# Load the data\n",
    "data = np.load('/Users/butovensmede/Downloads/data_train.npy')\n",
    "\n",
    "# # Load the data\n",
    "# train_data = np.load('/Users/butovensmede/Downloads/data_train.npy')\n",
    "# test_data = np.load('/Users/butovensmede/Downloads/data_test.npy')"
   ]
  },
  {
   "cell_type": "code",
   "execution_count": 3,
   "metadata": {},
   "outputs": [],
   "source": [
    "# Prepare the data\n",
    "X = torch.tensor(data[:, :, :]).float()  # Features\n",
    "y = torch.tensor(np.concatenate((np.zeros(87), np.ones(79)))).float()  # Labels (0 for AD, 1 for CN)\n",
    "\n",
    "# # Prepare the data\n",
    "# X_train = torch.tensor(train_data[:, :, :]).float()  # Training features\n",
    "# y_train = torch.tensor(np.concatenate((np.zeros(87), np.ones(79)))).float()  # Training labels\n",
    "# X_test = torch.tensor(test_data[:, :, :]).float()  # Testing features\n",
    "# y_test = torch.tensor(np.concatenate((np.zeros(87), np.ones(79)))).float()  # Testing labels\n",
    "\n",
    "# Split the data into training and testing sets\n",
    "X_train, X_test, y_train, y_test = train_test_split(X, y, test_size=0.2, random_state=42)\n"
   ]
  },
  {
   "cell_type": "code",
   "execution_count": 37,
   "metadata": {},
   "outputs": [],
   "source": [
    "# Define the RNN model\n",
    "class RNN(nn.Module):\n",
    "    def __init__(self, input_size, hidden_size, num_layers, output_size, dropout_prob=0.5):\n",
    "        super(RNN, self).__init__()\n",
    "        self.hidden_size = hidden_size\n",
    "        self.num_layers = num_layers\n",
    "        self.rnn = nn.LSTM(input_size, hidden_size, num_layers, batch_first=True)\n",
    "        self.fc = nn.Linear(hidden_size, output_size)\n",
    "        self.sigmoid = nn.Sigmoid()\n",
    "        self.dropout = nn.Dropout(dropout_prob)\n",
    "\n",
    "    def forward(self, x):\n",
    "        h0 = torch.zeros(self.num_layers, x.size(0), self.hidden_size).to(x.device)\n",
    "        c0 = torch.zeros(self.num_layers, x.size(0), self.hidden_size).to(x.device)\n",
    "        out, _ = self.rnn(x, (h0, c0))\n",
    "        out = self.dropout(out)\n",
    "        out = self.fc(out[:, -1, :])\n",
    "        out = self.sigmoid(out)\n",
    "        return out"
   ]
  },
  {
   "cell_type": "code",
   "execution_count": 48,
   "metadata": {},
   "outputs": [],
   "source": [
    "# Initialize the model\n",
    "input_size = X.shape[2]\n",
    "hidden_size = 64\n",
    "num_layers = 3\n",
    "output_size = 1\n",
    "dropout_prob = 0.2\n",
    "\n",
    "model = RNN(input_size, hidden_size, num_layers, output_size, dropout_prob)"
   ]
  },
  {
   "cell_type": "code",
   "execution_count": 51,
   "metadata": {},
   "outputs": [],
   "source": [
    "# Define the loss function and optimizer\n",
    "criterion = nn.BCELoss()\n",
    "optimizer = optim.Adam(model.parameters(), lr=0.001)\n"
   ]
  },
  {
   "cell_type": "code",
   "execution_count": 27,
   "metadata": {},
   "outputs": [],
   "source": [
    "# Prepare DataLoader\n",
    "train_dataset = TensorDataset(X_train, y_train)\n",
    "train_loader = DataLoader(train_dataset, batch_size=64, shuffle=True)\n"
   ]
  },
  {
   "cell_type": "code",
   "execution_count": 52,
   "metadata": {},
   "outputs": [
    {
     "name": "stdout",
     "output_type": "stream",
     "text": [
      "Epoch [1/20], Loss: 0.6962\n",
      "Epoch [2/20], Loss: 0.6955\n",
      "Epoch [3/20], Loss: 0.7328\n",
      "Epoch [4/20], Loss: 0.6983\n",
      "Epoch [5/20], Loss: 0.6842\n",
      "Epoch [6/20], Loss: 0.5987\n",
      "Epoch [7/20], Loss: 0.7243\n",
      "Epoch [8/20], Loss: 0.6817\n",
      "Epoch [9/20], Loss: 0.7600\n",
      "Epoch [10/20], Loss: 0.7054\n",
      "Epoch [11/20], Loss: 0.7164\n",
      "Epoch [12/20], Loss: 0.6692\n",
      "Epoch [13/20], Loss: 0.6953\n",
      "Epoch [14/20], Loss: 0.7341\n",
      "Epoch [15/20], Loss: 0.7003\n",
      "Epoch [16/20], Loss: 0.6930\n",
      "Epoch [17/20], Loss: 0.5834\n",
      "Epoch [18/20], Loss: 0.6943\n",
      "Epoch [19/20], Loss: 0.6974\n",
      "Epoch [20/20], Loss: 0.6879\n"
     ]
    }
   ],
   "source": [
    "# Train the model\n",
    "num_epochs = 20\n",
    "for epoch in range(num_epochs):\n",
    "    for inputs, labels in train_loader:\n",
    "        optimizer.zero_grad()\n",
    "        outputs = model(inputs)\n",
    "        loss = criterion(outputs.squeeze(), labels)\n",
    "        loss.backward()\n",
    "        optimizer.step()\n",
    "    print(f'Epoch [{epoch+1}/{num_epochs}], Loss: {loss.item():.4f}')\n"
   ]
  },
  {
   "cell_type": "code",
   "execution_count": 53,
   "metadata": {},
   "outputs": [
    {
     "name": "stdout",
     "output_type": "stream",
     "text": [
      "Test Accuracy: 0.3824\n"
     ]
    }
   ],
   "source": [
    "# Evaluate the model\n",
    "with torch.no_grad():\n",
    "    outputs = model(X_test)\n",
    "    predicted = (outputs.squeeze() > 0.5).float()\n",
    "    accuracy = (predicted == y_test).float().mean()\n",
    "    print(f'Test Accuracy: {accuracy.item():.4f}')"
   ]
  }
 ],
 "metadata": {
  "kernelspec": {
   "display_name": "base",
   "language": "python",
   "name": "python3"
  },
  "language_info": {
   "codemirror_mode": {
    "name": "ipython",
    "version": 3
   },
   "file_extension": ".py",
   "mimetype": "text/x-python",
   "name": "python",
   "nbconvert_exporter": "python",
   "pygments_lexer": "ipython3",
   "version": "3.10.9"
  },
  "orig_nbformat": 4
 },
 "nbformat": 4,
 "nbformat_minor": 2
}
