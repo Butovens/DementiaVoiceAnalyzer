{
 "cells": [
  {
   "cell_type": "code",
   "execution_count": 2,
   "metadata": {},
   "outputs": [],
   "source": [
    "import torch\n",
    "import torch.nn as nn\n",
    "import torch.optim as optim\n",
    "from torch.utils.data import DataLoader, TensorDataset\n",
    "from sklearn.model_selection import train_test_split \n",
    "from sklearn.metrics import accuracy_score, precision_score, recall_score\n",
    "import numpy as np\n",
    "import matplotlib.pyplot as plt\n",
    "import seaborn as sns"
   ]
  },
  {
   "cell_type": "code",
   "execution_count": 34,
   "metadata": {},
   "outputs": [],
   "source": [
    "# # Load the data\n",
    "# data = np.load('/Users/butovensmede/Downloads/data_train.npy')\n",
    "\n",
    "# Load the data\n",
    "train_data = np.load('/Users/butovensmede/Downloads/seq_data.npy')\n",
    "test_data = np.load('/Users/butovensmede/Downloads/y_vector.npy')"
   ]
  },
  {
   "cell_type": "code",
   "execution_count": 35,
   "metadata": {},
   "outputs": [],
   "source": [
    "# # Prepare the data\n",
    "# X = torch.tensor(data[:, :, :]).float()  # Features\n",
    "# y = torch.tensor(np.concatenate((np.zeros(87), np.ones(79)))).float()  # Labels (0 for AD, 1 for CN)\n",
    "\n",
    "# # Split the data into training and testing sets\n",
    "# X_train, X_test, y_train, y_test = train_test_split(X, y, test_size=0.2, random_state=42)\n",
    "\n",
    "# Split the data into train and test sets while preserving class distribution\n",
    "X_train_ad, X_test_ad, y_train_ad, y_test_ad = train_test_split(\n",
    "    train_data[:87], test_data[:87], test_size=0.2, random_state=42\n",
    ")\n",
    "X_train_control, X_test_control, y_train_control, y_test_control = train_test_split(\n",
    "    train_data[87:], test_data[87:], test_size=0.2, random_state=42\n",
    ")\n",
    "\n",
    "# Combine the AD and control data for both training and test sets\n",
    "X_train = np.concatenate((X_train_ad, X_train_control))\n",
    "y_train = np.concatenate((y_train_ad, y_train_control))\n",
    "X_test = np.concatenate((X_test_ad, X_test_control))\n",
    "y_test = np.concatenate((y_test_ad, y_test_control))\n",
    "\n",
    "# Convert data to PyTorch tensors\n",
    "X_train = torch.tensor(X_train).float()\n",
    "y_train = torch.tensor(y_train).float()\n",
    "X_test = torch.tensor(X_test).float()\n",
    "y_test = torch.tensor(y_test).float()\n",
    "\n"
   ]
  },
  {
   "cell_type": "code",
   "execution_count": 36,
   "metadata": {},
   "outputs": [],
   "source": [
    "# Define the RNN model\n",
    "class RNN(nn.Module):\n",
    "    def __init__(self, input_size, hidden_size, num_layers, output_size, dropout_prob=0.5):\n",
    "        super(RNN, self).__init__()\n",
    "        self.hidden_size = hidden_size\n",
    "        self.num_layers = num_layers\n",
    "        self.rnn = nn.LSTM(input_size, hidden_size, num_layers, batch_first=True)\n",
    "        self.fc = nn.Linear(hidden_size, output_size)\n",
    "        self.sigmoid = nn.Sigmoid()\n",
    "        self.dropout = nn.Dropout(dropout_prob)\n",
    "\n",
    "    def forward(self, x):\n",
    "        h0 = torch.zeros(self.num_layers, x.size(0), self.hidden_size).to(x.device)\n",
    "        c0 = torch.zeros(self.num_layers, x.size(0), self.hidden_size).to(x.device)\n",
    "        out, _ = self.rnn(x, (h0, c0))\n",
    "        out = self.dropout(out)\n",
    "        out = self.fc(out[:, -1, :])\n",
    "        out = self.sigmoid(out)\n",
    "        return out"
   ]
  },
  {
   "cell_type": "code",
   "execution_count": 147,
   "metadata": {},
   "outputs": [],
   "source": [
    "# Initialize the model\n",
    "input_size = X_train.shape[2]\n",
    "hidden_size = 128\n",
    "num_layers = 2\n",
    "output_size = 1\n",
    "dropout_prob = 0.5\n",
    "\n",
    "model = RNN(input_size, hidden_size, num_layers, output_size, dropout_prob)"
   ]
  },
  {
   "cell_type": "code",
   "execution_count": 136,
   "metadata": {},
   "outputs": [],
   "source": [
    "# Define the loss function and optimizer\n",
    "criterion = nn.BCELoss()\n",
    "optimizer = optim.Adam(model.parameters(), lr=0.01)\n"
   ]
  },
  {
   "cell_type": "code",
   "execution_count": 60,
   "metadata": {},
   "outputs": [],
   "source": [
    "# Prepare DataLoader\n",
    "train_dataset = TensorDataset(X_train, y_train)\n",
    "train_loader = DataLoader(train_dataset, batch_size=64, shuffle=True)\n"
   ]
  },
  {
   "cell_type": "code",
   "execution_count": 188,
   "metadata": {},
   "outputs": [
    {
     "name": "stdout",
     "output_type": "stream",
     "text": [
      "Epoch [1/20], Loss: 0.6914\n",
      "Epoch [2/20], Loss: 0.7004\n",
      "Epoch [3/20], Loss: 0.7029\n",
      "Epoch [4/20], Loss: 0.6913\n",
      "Epoch [5/20], Loss: 0.6827\n",
      "Epoch [6/20], Loss: 0.6854\n",
      "Epoch [7/20], Loss: 0.6944\n",
      "Epoch [8/20], Loss: 0.6791\n",
      "Epoch [9/20], Loss: 0.6900\n",
      "Epoch [10/20], Loss: 0.6926\n",
      "Epoch [11/20], Loss: 0.6871\n",
      "Epoch [12/20], Loss: 0.6934\n",
      "Epoch [13/20], Loss: 0.6855\n",
      "Epoch [14/20], Loss: 0.6992\n",
      "Epoch [15/20], Loss: 0.6859\n",
      "Epoch [16/20], Loss: 0.6973\n",
      "Epoch [17/20], Loss: 0.6943\n",
      "Epoch [18/20], Loss: 0.6990\n",
      "Epoch [19/20], Loss: 0.6882\n",
      "Epoch [20/20], Loss: 0.6921\n"
     ]
    }
   ],
   "source": [
    "## Train the model\n",
    "num_epochs = 20\n",
    "for epoch in range(num_epochs):\n",
    "    for inputs, labels in train_loader:\n",
    "        optimizer.zero_grad()\n",
    "        outputs = model(inputs)\n",
    "        # Ensure that predictions and labels have compatible shapes\n",
    "        loss = criterion(outputs.squeeze(), labels)  # No need for unsqueeze(1) on labels\n",
    "        loss.backward()\n",
    "        optimizer.step()\n",
    "    print(f'Epoch [{epoch+1}/{num_epochs}], Loss: {loss.item():.4f}')"
   ]
  },
  {
   "cell_type": "code",
   "execution_count": 215,
   "metadata": {},
   "outputs": [
    {
     "data": {
      "image/png": "[encoded data removed]",
      "text/plain": [
       "<Figure size 800x600 with 1 Axes>"
      ]
     },
     "metadata": {},
     "output_type": "display_data"
    },
    {
     "name": "stdout",
     "output_type": "stream",
     "text": [
      "Test Accuracy: 0.5208\n",
      "Precision: 0.4865\n",
      "Recall: 0.8182\n"
     ]
    }
   ],
   "source": [
    "# # Evaluate the model\n",
    "# with torch.no_grad():\n",
    "#     outputs = model(X_test)\n",
    "#     predicted = (outputs.squeeze() > 0.5).float()\n",
    "#     accuracy = (predicted == y_test).float().mean()\n",
    "#     print(f'Test Accuracy: {accuracy.item():.4f}')\n",
    "\n",
    "# Evaluate the model\n",
    "with torch.no_grad():\n",
    "    outputs = model(X_test)\n",
    "    predicted = (outputs.squeeze() > 0.5).float()\n",
    "    \n",
    "    # Convert torch tensors to numpy arrays\n",
    "    y_test_np = y_test.numpy()\n",
    "    predicted_np = predicted.numpy()\n",
    "    \n",
    "    # Compute confusion matrix\n",
    "    cm = confusion_matrix(y_test_np, predicted_np)\n",
    "    \n",
    "    # Plot confusion matrix\n",
    "    plt.figure(figsize=(8, 6))\n",
    "    sns.heatmap(cm, annot=True, fmt='d', cmap='Blues', cbar=False)\n",
    "    plt.xlabel('Predicted Label')\n",
    "    plt.ylabel('True Label')\n",
    "    plt.title('Confusion Matrix')\n",
    "    plt.show()\n",
    "    \n",
    "    # Compute accuracy, precision, and recall using scikit-learn\n",
    "    accuracy = accuracy_score(y_test_np, predicted_np)\n",
    "    precision = precision_score(y_test_np, predicted_np)\n",
    "    recall = recall_score(y_test_np, predicted_np)\n",
    "    \n",
    "    print(f'Test Accuracy: {accuracy:.4f}')\n",
    "    print(f'Precision: {precision:.4f}')\n",
    "    print(f'Recall: {recall:.4f}')"
   ]
  }
 ],
 "metadata": {
  "kernelspec": {
   "display_name": "base",
   "language": "python",
   "name": "python3"
  },
  "language_info": {
   "codemirror_mode": {
    "name": "ipython",
    "version": 3
   },
   "file_extension": ".py",
   "mimetype": "text/x-python",
   "name": "python",
   "nbconvert_exporter": "python",
   "pygments_lexer": "ipython3",
   "version": "3.10.9"
  },
  "orig_nbformat": 4
 },
 "nbformat": 4,
 "nbformat_minor": 2
}
