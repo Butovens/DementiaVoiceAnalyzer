{
 "cells": [
  {
   "cell_type": "code",
   "execution_count": 1,
   "id": "dfd93dde",
   "metadata": {},
   "outputs": [],
   "source": [
    "# Importing packages\n",
    "\n",
    "import pandas as pd\n",
    "import numpy as np\n",
    "import matplotlib.pyplot as plt\n",
    "from sklearn.preprocessing import scale\n",
    "import seaborn as sns\n",
    "from sklearn.preprocessing import StandardScaler\n",
    "from sklearn.pipeline import Pipeline\n",
    "from sklearn.model_selection import train_test_split, RandomizedSearchCV, GridSearchCV\n",
    "from sklearn.tree import DecisionTreeClassifier\n",
    "from sklearn.ensemble import RandomForestClassifier, ExtraTreesClassifier\n",
    "from sklearn.metrics import accuracy_score, confusion_matrix, precision_score, recall_score, ConfusionMatrixDisplay\n",
    "from sklearn.linear_model import LogisticRegression\n",
    "from sklearn.model_selection import KFold\n",
    "from sklearn.neighbors import KNeighborsClassifier\n",
    "from sklearn.svm import SVC"
   ]
  },
  {
   "cell_type": "code",
   "execution_count": 8,
   "id": "cf8c20cf",
   "metadata": {},
   "outputs": [
    {
     "data": {
      "text/html": [
       "<div>\n",
       "<style scoped>\n",
       "    .dataframe tbody tr th:only-of-type {\n",
       "        vertical-align: middle;\n",
       "    }\n",
       "\n",
       "    .dataframe tbody tr th {\n",
       "        vertical-align: top;\n",
       "    }\n",
       "\n",
       "    .dataframe thead th {\n",
       "        text-align: right;\n",
       "    }\n",
       "</style>\n",
       "<table border=\"1\" class=\"dataframe\">\n",
       "  <thead>\n",
       "    <tr style=\"text-align: right;\">\n",
       "      <th></th>\n",
       "      <th>F0semitoneFrom27.5Hz_sma3nz_amean</th>\n",
       "      <th>F0semitoneFrom27.5Hz_sma3nz_pctlrange0-2</th>\n",
       "      <th>F0semitoneFrom27.5Hz_sma3nz_meanFallingSlope</th>\n",
       "      <th>loudness_sma3_amean</th>\n",
       "      <th>loudness_sma3_stddevNorm</th>\n",
       "      <th>loudness_sma3_stddevFallingSlope</th>\n",
       "      <th>spectralFlux_sma3_amean</th>\n",
       "      <th>spectralFlux_sma3_stddevNorm</th>\n",
       "      <th>mfcc2_sma3_stddevNorm</th>\n",
       "      <th>mfcc3_sma3_stddevNorm</th>\n",
       "      <th>...</th>\n",
       "      <th>slopeV0-500_sma3nz_stddevNorm</th>\n",
       "      <th>slopeV500-1500_sma3nz_stddevNorm</th>\n",
       "      <th>spectralFluxV_sma3nz_amean</th>\n",
       "      <th>spectralFluxV_sma3nz_stddevNorm</th>\n",
       "      <th>spectralFluxUV_sma3nz_amean</th>\n",
       "      <th>loudnessPeaksPerSec</th>\n",
       "      <th>MeanVoicedSegmentLengthSec</th>\n",
       "      <th>MeanUnvoicedSegmentLength</th>\n",
       "      <th>equivalentSoundLevel_dBp</th>\n",
       "      <th>status</th>\n",
       "    </tr>\n",
       "    <tr>\n",
       "      <th>audio file</th>\n",
       "      <th></th>\n",
       "      <th></th>\n",
       "      <th></th>\n",
       "      <th></th>\n",
       "      <th></th>\n",
       "      <th></th>\n",
       "      <th></th>\n",
       "      <th></th>\n",
       "      <th></th>\n",
       "      <th></th>\n",
       "      <th></th>\n",
       "      <th></th>\n",
       "      <th></th>\n",
       "      <th></th>\n",
       "      <th></th>\n",
       "      <th></th>\n",
       "      <th></th>\n",
       "      <th></th>\n",
       "      <th></th>\n",
       "      <th></th>\n",
       "      <th></th>\n",
       "    </tr>\n",
       "  </thead>\n",
       "  <tbody>\n",
       "    <tr>\n",
       "      <th>adrso024</th>\n",
       "      <td>22.836117</td>\n",
       "      <td>7.935173</td>\n",
       "      <td>150.88577</td>\n",
       "      <td>0.549328</td>\n",
       "      <td>0.831140</td>\n",
       "      <td>5.262211</td>\n",
       "      <td>0.508837</td>\n",
       "      <td>1.326787</td>\n",
       "      <td>1.659299</td>\n",
       "      <td>2.070628</td>\n",
       "      <td>...</td>\n",
       "      <td>0.882923</td>\n",
       "      <td>-0.567350</td>\n",
       "      <td>0.550346</td>\n",
       "      <td>1.225269</td>\n",
       "      <td>0.163655</td>\n",
       "      <td>1.585821</td>\n",
       "      <td>0.733627</td>\n",
       "      <td>0.100488</td>\n",
       "      <td>-26.253954</td>\n",
       "      <td>ad</td>\n",
       "    </tr>\n",
       "    <tr>\n",
       "      <th>adrso025</th>\n",
       "      <td>25.950464</td>\n",
       "      <td>11.863705</td>\n",
       "      <td>177.42262</td>\n",
       "      <td>0.398178</td>\n",
       "      <td>1.058877</td>\n",
       "      <td>5.992081</td>\n",
       "      <td>0.200731</td>\n",
       "      <td>1.719531</td>\n",
       "      <td>1.825399</td>\n",
       "      <td>1.010119</td>\n",
       "      <td>...</td>\n",
       "      <td>0.633215</td>\n",
       "      <td>-0.695343</td>\n",
       "      <td>0.327789</td>\n",
       "      <td>1.311078</td>\n",
       "      <td>0.069983</td>\n",
       "      <td>0.774302</td>\n",
       "      <td>0.213387</td>\n",
       "      <td>0.221147</td>\n",
       "      <td>-32.320164</td>\n",
       "      <td>ad</td>\n",
       "    </tr>\n",
       "    <tr>\n",
       "      <th>adrso027</th>\n",
       "      <td>19.768696</td>\n",
       "      <td>11.135247</td>\n",
       "      <td>167.47725</td>\n",
       "      <td>0.460953</td>\n",
       "      <td>0.707600</td>\n",
       "      <td>5.662509</td>\n",
       "      <td>0.207583</td>\n",
       "      <td>1.357751</td>\n",
       "      <td>0.648870</td>\n",
       "      <td>1.462580</td>\n",
       "      <td>...</td>\n",
       "      <td>12.945907</td>\n",
       "      <td>-0.940123</td>\n",
       "      <td>0.283992</td>\n",
       "      <td>1.236332</td>\n",
       "      <td>0.134296</td>\n",
       "      <td>0.727537</td>\n",
       "      <td>0.099811</td>\n",
       "      <td>0.112874</td>\n",
       "      <td>-34.366104</td>\n",
       "      <td>ad</td>\n",
       "    </tr>\n",
       "    <tr>\n",
       "      <th>adrso028</th>\n",
       "      <td>22.070637</td>\n",
       "      <td>13.376965</td>\n",
       "      <td>147.31458</td>\n",
       "      <td>0.399583</td>\n",
       "      <td>1.533441</td>\n",
       "      <td>8.396350</td>\n",
       "      <td>0.202821</td>\n",
       "      <td>2.647187</td>\n",
       "      <td>3.380660</td>\n",
       "      <td>1.010571</td>\n",
       "      <td>...</td>\n",
       "      <td>1.270049</td>\n",
       "      <td>-0.652363</td>\n",
       "      <td>0.235273</td>\n",
       "      <td>2.537468</td>\n",
       "      <td>0.118246</td>\n",
       "      <td>0.482315</td>\n",
       "      <td>0.174490</td>\n",
       "      <td>0.069385</td>\n",
       "      <td>-28.948114</td>\n",
       "      <td>ad</td>\n",
       "    </tr>\n",
       "    <tr>\n",
       "      <th>adrso031</th>\n",
       "      <td>29.309093</td>\n",
       "      <td>22.327736</td>\n",
       "      <td>136.47410</td>\n",
       "      <td>0.358402</td>\n",
       "      <td>0.733677</td>\n",
       "      <td>9.875219</td>\n",
       "      <td>0.149938</td>\n",
       "      <td>1.618128</td>\n",
       "      <td>0.852065</td>\n",
       "      <td>1.973424</td>\n",
       "      <td>...</td>\n",
       "      <td>1.526530</td>\n",
       "      <td>-0.909497</td>\n",
       "      <td>0.223593</td>\n",
       "      <td>1.312532</td>\n",
       "      <td>0.083634</td>\n",
       "      <td>0.689995</td>\n",
       "      <td>0.171469</td>\n",
       "      <td>0.208814</td>\n",
       "      <td>-35.530070</td>\n",
       "      <td>ad</td>\n",
       "    </tr>\n",
       "  </tbody>\n",
       "</table>\n",
       "<p>5 rows × 38 columns</p>\n",
       "</div>"
      ],
      "text/plain": [
       "            F0semitoneFrom27.5Hz_sma3nz_amean  \\\n",
       "audio file                                      \n",
       "adrso024                            22.836117   \n",
       "adrso025                            25.950464   \n",
       "adrso027                            19.768696   \n",
       "adrso028                            22.070637   \n",
       "adrso031                            29.309093   \n",
       "\n",
       "            F0semitoneFrom27.5Hz_sma3nz_pctlrange0-2  \\\n",
       "audio file                                             \n",
       "adrso024                                    7.935173   \n",
       "adrso025                                   11.863705   \n",
       "adrso027                                   11.135247   \n",
       "adrso028                                   13.376965   \n",
       "adrso031                                   22.327736   \n",
       "\n",
       "            F0semitoneFrom27.5Hz_sma3nz_meanFallingSlope  loudness_sma3_amean  \\\n",
       "audio file                                                                      \n",
       "adrso024                                       150.88577             0.549328   \n",
       "adrso025                                       177.42262             0.398178   \n",
       "adrso027                                       167.47725             0.460953   \n",
       "adrso028                                       147.31458             0.399583   \n",
       "adrso031                                       136.47410             0.358402   \n",
       "\n",
       "            loudness_sma3_stddevNorm  loudness_sma3_stddevFallingSlope  \\\n",
       "audio file                                                               \n",
       "adrso024                    0.831140                          5.262211   \n",
       "adrso025                    1.058877                          5.992081   \n",
       "adrso027                    0.707600                          5.662509   \n",
       "adrso028                    1.533441                          8.396350   \n",
       "adrso031                    0.733677                          9.875219   \n",
       "\n",
       "            spectralFlux_sma3_amean  spectralFlux_sma3_stddevNorm  \\\n",
       "audio file                                                          \n",
       "adrso024                   0.508837                      1.326787   \n",
       "adrso025                   0.200731                      1.719531   \n",
       "adrso027                   0.207583                      1.357751   \n",
       "adrso028                   0.202821                      2.647187   \n",
       "adrso031                   0.149938                      1.618128   \n",
       "\n",
       "            mfcc2_sma3_stddevNorm  mfcc3_sma3_stddevNorm  ...  \\\n",
       "audio file                                                ...   \n",
       "adrso024                 1.659299               2.070628  ...   \n",
       "adrso025                 1.825399               1.010119  ...   \n",
       "adrso027                 0.648870               1.462580  ...   \n",
       "adrso028                 3.380660               1.010571  ...   \n",
       "adrso031                 0.852065               1.973424  ...   \n",
       "\n",
       "            slopeV0-500_sma3nz_stddevNorm  slopeV500-1500_sma3nz_stddevNorm  \\\n",
       "audio file                                                                    \n",
       "adrso024                         0.882923                         -0.567350   \n",
       "adrso025                         0.633215                         -0.695343   \n",
       "adrso027                        12.945907                         -0.940123   \n",
       "adrso028                         1.270049                         -0.652363   \n",
       "adrso031                         1.526530                         -0.909497   \n",
       "\n",
       "            spectralFluxV_sma3nz_amean  spectralFluxV_sma3nz_stddevNorm  \\\n",
       "audio file                                                                \n",
       "adrso024                      0.550346                         1.225269   \n",
       "adrso025                      0.327789                         1.311078   \n",
       "adrso027                      0.283992                         1.236332   \n",
       "adrso028                      0.235273                         2.537468   \n",
       "adrso031                      0.223593                         1.312532   \n",
       "\n",
       "            spectralFluxUV_sma3nz_amean  loudnessPeaksPerSec  \\\n",
       "audio file                                                     \n",
       "adrso024                       0.163655             1.585821   \n",
       "adrso025                       0.069983             0.774302   \n",
       "adrso027                       0.134296             0.727537   \n",
       "adrso028                       0.118246             0.482315   \n",
       "adrso031                       0.083634             0.689995   \n",
       "\n",
       "            MeanVoicedSegmentLengthSec  MeanUnvoicedSegmentLength  \\\n",
       "audio file                                                          \n",
       "adrso024                      0.733627                   0.100488   \n",
       "adrso025                      0.213387                   0.221147   \n",
       "adrso027                      0.099811                   0.112874   \n",
       "adrso028                      0.174490                   0.069385   \n",
       "adrso031                      0.171469                   0.208814   \n",
       "\n",
       "            equivalentSoundLevel_dBp  status  \n",
       "audio file                                    \n",
       "adrso024                  -26.253954      ad  \n",
       "adrso025                  -32.320164      ad  \n",
       "adrso027                  -34.366104      ad  \n",
       "adrso028                  -28.948114      ad  \n",
       "adrso031                  -35.530070      ad  \n",
       "\n",
       "[5 rows x 38 columns]"
      ]
     },
     "execution_count": 8,
     "metadata": {},
     "output_type": "execute_result"
    }
   ],
   "source": [
    "# Importing data\n",
    "\n",
    "data_set = pd.read_csv('cleaned_data.csv')\n",
    "\n",
    "# Set index column\n",
    "\n",
    "data_set.set_index('audio file',inplace=True)\n",
    "\n",
    "data_set.head()"
   ]
  },
  {
   "cell_type": "code",
   "execution_count": 9,
   "id": "bac1679f",
   "metadata": {},
   "outputs": [
    {
     "data": {
      "text/plain": [
       "(237, 38)"
      ]
     },
     "execution_count": 9,
     "metadata": {},
     "output_type": "execute_result"
    }
   ],
   "source": [
    "# Size of the data set\n",
    "data_set.shape"
   ]
  },
  {
   "cell_type": "code",
   "execution_count": 10,
   "id": "9a348ac4",
   "metadata": {},
   "outputs": [],
   "source": [
    "df = data_set"
   ]
  },
  {
   "cell_type": "markdown",
   "id": "68c628fd",
   "metadata": {},
   "source": [
    "#### Model 1: Logistic Regression "
   ]
  },
  {
   "cell_type": "code",
   "execution_count": 33,
   "id": "0b195c16",
   "metadata": {},
   "outputs": [],
   "source": [
    "# Scale data\n",
    "\n",
    "df_scale = scale(df.iloc[:,:-1])\n",
    "X = df_scale[:,:-1]\n",
    "y = df['status']\n",
    "\n",
    "# Train test split\n",
    "X_train, X_test, y_train, y_test = train_test_split(X.copy(),y.copy(),\n",
    "                                                       shuffle=True,\n",
    "                                                       random_state=153,\n",
    "                                                       stratify=y,\n",
    "                                                       test_size=.2)\n"
   ]
  },
  {
   "cell_type": "markdown",
   "id": "bb1b7db5",
   "metadata": {},
   "source": [
    "#### Introducing cross-validation"
   ]
  },
  {
   "cell_type": "code",
   "execution_count": 34,
   "id": "ff09abb8",
   "metadata": {},
   "outputs": [],
   "source": [
    "kfold = KFold(n_splits = 5,\n",
    "              shuffle = True,\n",
    "              random_state = 582)"
   ]
  },
  {
   "cell_type": "code",
   "execution_count": 35,
   "id": "c3973a30",
   "metadata": {},
   "outputs": [
    {
     "data": {
      "text/plain": [
       "<generator object _BaseKFold.split at 0x0000017F43124280>"
      ]
     },
     "execution_count": 35,
     "metadata": {},
     "output_type": "execute_result"
    }
   ],
   "source": [
    "kfold.split(X_train, y_train)"
   ]
  },
  {
   "cell_type": "code",
   "execution_count": 36,
   "id": "99c5922d",
   "metadata": {},
   "outputs": [],
   "source": [
    "# Running cross-validation\n",
    "\n",
    "j = 0\n",
    "cutoff = 0.58\n",
    "precision_mat = np.zeros((1,5))\n",
    "recall_mat = np.zeros((1,5))\n",
    "accuracy_mat = np.zeros((1,5))\n",
    "\n",
    "for train_index, test_index in kfold.split(X_train, y_train):\n",
    "    \n",
    "    ### Training\n",
    "    X_train_train = X_train[train_index,:]\n",
    "    y_train_train = y_train[train_index]\n",
    "    \n",
    "    ### Holdout set\n",
    "    X_holdout = X_train[test_index,:]\n",
    "    y_holdout = y_train[test_index]\n",
    "    \n",
    "    log_reg = LogisticRegression(penalty=None,max_iter = 500)\n",
    "    log_reg.fit(X_train_train,\n",
    "            y_train_train)\n",
    "    y_prob = log_reg.predict_proba(X_holdout)[:,1]\n",
    "    \n",
    "    y_preds = []\n",
    " \n",
    "    for i in y_prob:\n",
    "        if i <= cutoff:\n",
    "            y_preds.append('ad')\n",
    "        else:\n",
    "            y_preds.append('cn')\n",
    "                \n",
    "    precision_mat[0,j] = precision_score(y_holdout, y_preds,average=\"binary\", pos_label=\"ad\")\n",
    "    recall_mat[0,j] = recall_score(y_holdout, y_preds,average=\"binary\", pos_label=\"ad\")\n",
    "    accuracy_mat[0,j] = accuracy_score(y_holdout, y_preds)\n",
    "    \n",
    "    \n",
    "    j += 1\n",
    "    \n",
    "    \n",
    "    \n",
    "    \n",
    "\n"
   ]
  },
  {
   "cell_type": "code",
   "execution_count": 37,
   "id": "c38f6c78",
   "metadata": {},
   "outputs": [
    {
     "data": {
      "image/png": "[encoded data removed]",
      "text/plain": [
       "<Figure size 800x500 with 1 Axes>"
      ]
     },
     "metadata": {},
     "output_type": "display_data"
    }
   ],
   "source": [
    "# Let's plot the metrices\n",
    "\n",
    "plt.figure(figsize=(8,5))\n",
    "plt.scatter(np.zeros(5), \n",
    "            precision_mat[0,:], \n",
    "            s=60, \n",
    "            c='white',\n",
    "            edgecolor='black',\n",
    "            label=\"Precision\")\n",
    "plt.scatter(np.ones(5), \n",
    "            recall_mat[0,:], \n",
    "            s=60, \n",
    "            c='black',\n",
    "            edgecolor='black',label =\"Recall\")\n",
    "plt.scatter(np.ones(5)*2, \n",
    "            accuracy_mat[0,:], \n",
    "            s=60, \n",
    "            c='blue',\n",
    "            edgecolor='black',label =\"Accuracy\")\n",
    "\n",
    "plt.scatter([0,1,2], \n",
    "            [np.mean(precision_mat, axis=1),np.mean(recall_mat, axis=1),np.mean(accuracy_mat, axis=1)], \n",
    "            s=60, \n",
    "            c='r',\n",
    "            marker='X',\n",
    "            label=\"Mean\")\n",
    "\n",
    "plt.legend(fontsize=12)\n",
    "\n",
    "plt.xticks([0,1,2],[\"Precision\", \"Recall\",\"Accuracy\"], fontsize=10)\n",
    "plt.yticks(fontsize=10)\n",
    "\n",
    "plt.xlabel(\"Metric\", fontsize=12)\n",
    "plt.ylabel(\"Precision Recall and Accuracy\", fontsize=12)\n",
    "\n",
    "plt.show()"
   ]
  },
  {
   "cell_type": "markdown",
   "id": "f2e8961c",
   "metadata": {},
   "source": [
    "##### Let's test the model"
   ]
  },
  {
   "cell_type": "code",
   "execution_count": 39,
   "id": "132c499d",
   "metadata": {},
   "outputs": [
    {
     "data": {
      "text/html": [
       "<style>#sk-container-id-2 {color: black;background-color: white;}#sk-container-id-2 pre{padding: 0;}#sk-container-id-2 div.sk-toggleable {background-color: white;}#sk-container-id-2 label.sk-toggleable__label {cursor: pointer;display: block;width: 100%;margin-bottom: 0;padding: 0.3em;box-sizing: border-box;text-align: center;}#sk-container-id-2 label.sk-toggleable__label-arrow:before {content: \"▸\";float: left;margin-right: 0.25em;color: #696969;}#sk-container-id-2 label.sk-toggleable__label-arrow:hover:before {color: black;}#sk-container-id-2 div.sk-estimator:hover label.sk-toggleable__label-arrow:before {color: black;}#sk-container-id-2 div.sk-toggleable__content {max-height: 0;max-width: 0;overflow: hidden;text-align: left;background-color: #f0f8ff;}#sk-container-id-2 div.sk-toggleable__content pre {margin: 0.2em;color: black;border-radius: 0.25em;background-color: #f0f8ff;}#sk-container-id-2 input.sk-toggleable__control:checked~div.sk-toggleable__content {max-height: 200px;max-width: 100%;overflow: auto;}#sk-container-id-2 input.sk-toggleable__control:checked~label.sk-toggleable__label-arrow:before {content: \"▾\";}#sk-container-id-2 div.sk-estimator input.sk-toggleable__control:checked~label.sk-toggleable__label {background-color: #d4ebff;}#sk-container-id-2 div.sk-label input.sk-toggleable__control:checked~label.sk-toggleable__label {background-color: #d4ebff;}#sk-container-id-2 input.sk-hidden--visually {border: 0;clip: rect(1px 1px 1px 1px);clip: rect(1px, 1px, 1px, 1px);height: 1px;margin: -1px;overflow: hidden;padding: 0;position: absolute;width: 1px;}#sk-container-id-2 div.sk-estimator {font-family: monospace;background-color: #f0f8ff;border: 1px dotted black;border-radius: 0.25em;box-sizing: border-box;margin-bottom: 0.5em;}#sk-container-id-2 div.sk-estimator:hover {background-color: #d4ebff;}#sk-container-id-2 div.sk-parallel-item::after {content: \"\";width: 100%;border-bottom: 1px solid gray;flex-grow: 1;}#sk-container-id-2 div.sk-label:hover label.sk-toggleable__label {background-color: #d4ebff;}#sk-container-id-2 div.sk-serial::before {content: \"\";position: absolute;border-left: 1px solid gray;box-sizing: border-box;top: 0;bottom: 0;left: 50%;z-index: 0;}#sk-container-id-2 div.sk-serial {display: flex;flex-direction: column;align-items: center;background-color: white;padding-right: 0.2em;padding-left: 0.2em;position: relative;}#sk-container-id-2 div.sk-item {position: relative;z-index: 1;}#sk-container-id-2 div.sk-parallel {display: flex;align-items: stretch;justify-content: center;background-color: white;position: relative;}#sk-container-id-2 div.sk-item::before, #sk-container-id-2 div.sk-parallel-item::before {content: \"\";position: absolute;border-left: 1px solid gray;box-sizing: border-box;top: 0;bottom: 0;left: 50%;z-index: -1;}#sk-container-id-2 div.sk-parallel-item {display: flex;flex-direction: column;z-index: 1;position: relative;background-color: white;}#sk-container-id-2 div.sk-parallel-item:first-child::after {align-self: flex-end;width: 50%;}#sk-container-id-2 div.sk-parallel-item:last-child::after {align-self: flex-start;width: 50%;}#sk-container-id-2 div.sk-parallel-item:only-child::after {width: 0;}#sk-container-id-2 div.sk-dashed-wrapped {border: 1px dashed gray;margin: 0 0.4em 0.5em 0.4em;box-sizing: border-box;padding-bottom: 0.4em;background-color: white;}#sk-container-id-2 div.sk-label label {font-family: monospace;font-weight: bold;display: inline-block;line-height: 1.2em;}#sk-container-id-2 div.sk-label-container {text-align: center;}#sk-container-id-2 div.sk-container {/* jupyter's `normalize.less` sets `[hidden] { display: none; }` but bootstrap.min.css set `[hidden] { display: none !important; }` so we also need the `!important` here to be able to override the default hidden behavior on the sphinx rendered scikit-learn.org. See: https://github.com/scikit-learn/scikit-learn/issues/21755 */display: inline-block !important;position: relative;}#sk-container-id-2 div.sk-text-repr-fallback {display: none;}</style><div id=\"sk-container-id-2\" class=\"sk-top-container\"><div class=\"sk-text-repr-fallback\"><pre>LogisticRegression(max_iter=500, penalty=None)</pre><b>In a Jupyter environment, please rerun this cell to show the HTML representation or trust the notebook. <br />On GitHub, the HTML representation is unable to render, please try loading this page with nbviewer.org.</b></div><div class=\"sk-container\" hidden><div class=\"sk-item\"><div class=\"sk-estimator sk-toggleable\"><input class=\"sk-toggleable__control sk-hidden--visually\" id=\"sk-estimator-id-2\" type=\"checkbox\" checked><label for=\"sk-estimator-id-2\" class=\"sk-toggleable__label sk-toggleable__label-arrow\">LogisticRegression</label><div class=\"sk-toggleable__content\"><pre>LogisticRegression(max_iter=500, penalty=None)</pre></div></div></div></div></div>"
      ],
      "text/plain": [
       "LogisticRegression(max_iter=500, penalty=None)"
      ]
     },
     "execution_count": 39,
     "metadata": {},
     "output_type": "execute_result"
    }
   ],
   "source": [
    "log_reg = LogisticRegression(penalty=None,max_iter = 500)\n",
    "log_reg.fit(X_train,\n",
    "            y_train)"
   ]
  },
  {
   "cell_type": "code",
   "execution_count": 40,
   "id": "7e524e61",
   "metadata": {},
   "outputs": [],
   "source": [
    "y_prob = log_reg.predict_proba(X_test)[:,1]"
   ]
  },
  {
   "cell_type": "code",
   "execution_count": 41,
   "id": "93249b67",
   "metadata": {},
   "outputs": [],
   "source": [
    "y_preds = []\n",
    "\n",
    "cutoff = 0.58\n",
    " \n",
    "for i in y_prob:\n",
    "    if i <= cutoff:\n",
    "        y_preds.append('ad')\n",
    "    else:\n",
    "        y_preds.append('cn')"
   ]
  },
  {
   "cell_type": "code",
   "execution_count": 42,
   "id": "3ef8c206",
   "metadata": {},
   "outputs": [
    {
     "name": "stdout",
     "output_type": "stream",
     "text": [
      "Accuracy 0.6458333333333334\n",
      "Precision: 0.6818181818181818\n",
      "Recall: 0.6\n"
     ]
    }
   ],
   "source": [
    "precision = precision_score(y_test, y_preds,average=\"binary\", pos_label=\"ad\")\n",
    "recall = recall_score(y_test, y_preds,average=\"binary\", pos_label=\"ad\")\n",
    "accuracy = accuracy_score(y_test, y_preds)\n",
    "print('Accuracy',accuracy)\n",
    "print(\"Precision:\", precision)\n",
    "print(\"Recall:\", recall)"
   ]
  },
  {
   "cell_type": "code",
   "execution_count": 43,
   "id": "a2a5f2fb",
   "metadata": {},
   "outputs": [
    {
     "data": {
      "image/png": "[encoded data removed]",
      "text/plain": [
       "<Figure size 640x480 with 2 Axes>"
      ]
     },
     "metadata": {},
     "output_type": "display_data"
    }
   ],
   "source": [
    "# The confusion matrix \n",
    "cm_new = confusion_matrix(y_test, y_preds)\n",
    "\n",
    "ConfusionMatrixDisplay(confusion_matrix=cm_new).plot();"
   ]
  },
  {
   "cell_type": "markdown",
   "id": "dd9fa70b",
   "metadata": {},
   "source": [
    "### Model 2: k-NN model"
   ]
  },
  {
   "cell_type": "markdown",
   "id": "6cac7de5",
   "metadata": {},
   "source": [
    "#### First we will use cross validation"
   ]
  },
  {
   "cell_type": "code",
   "execution_count": 44,
   "id": "a2e879b0",
   "metadata": {},
   "outputs": [],
   "source": [
    "j = 0\n",
    "precision_knn_mat = np.zeros((1,5))\n",
    "recall_knn_mat = np.zeros((1,5))\n",
    "accuracy_knn_mat = np.zeros((1,5))\n",
    "\n",
    "for train_index, test_index in kfold.split(X_train, y_train):\n",
    "    \n",
    "    ### Training\n",
    "    X_train_train = X_train[train_index,:]\n",
    "    y_train_train = y_train[train_index]\n",
    "    \n",
    "    ### Holdout set\n",
    "    X_holdout = X_train[test_index,:]\n",
    "    y_holdout = y_train[test_index]\n",
    "    \n",
    "\n",
    "\n",
    "    knn_class = KNeighborsClassifier(n_neighbors=5)\n",
    "    knn_class.fit(X_train_train,\n",
    "            y_train_train)\n",
    "    \n",
    "    y_preds = knn_class.predict(X_holdout)\n",
    "\n",
    "    precision_knn_mat[0,j] = precision_score(y_holdout, y_preds,average=\"binary\", pos_label=\"ad\")\n",
    "    recall_knn_mat[0,j] = recall_score(y_holdout, y_preds,average=\"binary\", pos_label=\"ad\")\n",
    "    accuracy_knn_mat[0,j] = accuracy_score(y_holdout, y_preds)\n",
    "    \n",
    "    \n",
    "    \n",
    "    j += 1\n",
    "    \n",
    "    "
   ]
  },
  {
   "cell_type": "code",
   "execution_count": 45,
   "id": "8643fa80",
   "metadata": {},
   "outputs": [
    {
     "data": {
      "image/png": "[encoded data removed]",
      "text/plain": [
       "<Figure size 800x500 with 1 Axes>"
      ]
     },
     "metadata": {},
     "output_type": "display_data"
    }
   ],
   "source": [
    "plt.figure(figsize=(8,5))\n",
    "plt.scatter(np.zeros(5), \n",
    "            precision_knn_mat[0,:], \n",
    "            s=60, \n",
    "            c='white',\n",
    "            edgecolor='black',\n",
    "            label=\"Precision\")\n",
    "plt.scatter(np.ones(5), \n",
    "            recall_knn_mat[0,:], \n",
    "            s=60, \n",
    "            c='black',\n",
    "            edgecolor='black',label =\"Recall\")\n",
    "\n",
    "plt.scatter(np.ones(5)*2, \n",
    "            accuracy_knn_mat[0,:], \n",
    "            s=60, \n",
    "            c='blue',\n",
    "            edgecolor='black',label =\"Accuracy\")\n",
    "\n",
    "plt.scatter([0,1,2], \n",
    "            [np.mean(precision_knn_mat, axis=1),np.mean(recall_knn_mat, axis=1),np.mean(accuracy_knn_mat, axis=1)], \n",
    "            s=60, \n",
    "            c='r',\n",
    "            marker='X',\n",
    "            label=\"Mean\")\n",
    "\n",
    "plt.legend(fontsize=12)\n",
    "\n",
    "plt.xticks([0,1,2],[\"Precision\", \"Recall\",\"Accuracy\"], fontsize=10)\n",
    "plt.yticks(fontsize=10)\n",
    "\n",
    "plt.xlabel(\"Metric\", fontsize=12)\n",
    "plt.ylabel(\"Precision, Recall and Accuracy - k-NN\", fontsize=12)\n",
    "\n",
    "plt.show()"
   ]
  },
  {
   "cell_type": "markdown",
   "id": "a24324aa",
   "metadata": {},
   "source": [
    "#### Let's test it using the test set"
   ]
  },
  {
   "cell_type": "code",
   "execution_count": 46,
   "id": "a9bc7356",
   "metadata": {},
   "outputs": [],
   "source": [
    "knn_class = KNeighborsClassifier(n_neighbors=5)\n",
    "knn_class.fit(X_train,\n",
    "            y_train)\n",
    "    \n",
    "y_preds = knn_class.predict(X_test)"
   ]
  },
  {
   "cell_type": "code",
   "execution_count": 47,
   "id": "a3ef9f60",
   "metadata": {},
   "outputs": [
    {
     "name": "stdout",
     "output_type": "stream",
     "text": [
      "Accuracy 0.6041666666666666\n",
      "Precision: 0.625\n",
      "Recall: 0.6\n"
     ]
    }
   ],
   "source": [
    "precision = precision_score(y_test, y_preds,average=\"binary\", pos_label=\"ad\")\n",
    "recall = recall_score(y_test, y_preds,average=\"binary\", pos_label=\"ad\")\n",
    "accuracy = accuracy_score(y_test, y_preds)\n",
    "print('Accuracy',accuracy)\n",
    "print(\"Precision:\", precision)\n",
    "print(\"Recall:\", recall)"
   ]
  },
  {
   "cell_type": "code",
   "execution_count": 48,
   "id": "3734ed91",
   "metadata": {},
   "outputs": [
    {
     "data": {
      "image/png": "[encoded data removed]",
      "text/plain": [
       "<Figure size 640x480 with 2 Axes>"
      ]
     },
     "metadata": {},
     "output_type": "display_data"
    }
   ],
   "source": [
    "cm_new = confusion_matrix(y_test, y_preds)\n",
    "\n",
    "ConfusionMatrixDisplay(confusion_matrix=cm_new).plot();"
   ]
  },
  {
   "cell_type": "markdown",
   "id": "3f1e37ec",
   "metadata": {},
   "source": [
    "#### Let's do some gridsearchcv with k-NN"
   ]
  },
  {
   "cell_type": "code",
   "execution_count": 49,
   "id": "a47e7276",
   "metadata": {},
   "outputs": [],
   "source": [
    "parameters = {\"n_neighbors\": range(1, 15)}\n",
    "gridsearch = GridSearchCV(KNeighborsClassifier(), parameters)\n"
   ]
  },
  {
   "cell_type": "code",
   "execution_count": 50,
   "id": "4ceff55d",
   "metadata": {},
   "outputs": [
    {
     "data": {
      "text/html": [
       "<style>#sk-container-id-3 {color: black;background-color: white;}#sk-container-id-3 pre{padding: 0;}#sk-container-id-3 div.sk-toggleable {background-color: white;}#sk-container-id-3 label.sk-toggleable__label {cursor: pointer;display: block;width: 100%;margin-bottom: 0;padding: 0.3em;box-sizing: border-box;text-align: center;}#sk-container-id-3 label.sk-toggleable__label-arrow:before {content: \"▸\";float: left;margin-right: 0.25em;color: #696969;}#sk-container-id-3 label.sk-toggleable__label-arrow:hover:before {color: black;}#sk-container-id-3 div.sk-estimator:hover label.sk-toggleable__label-arrow:before {color: black;}#sk-container-id-3 div.sk-toggleable__content {max-height: 0;max-width: 0;overflow: hidden;text-align: left;background-color: #f0f8ff;}#sk-container-id-3 div.sk-toggleable__content pre {margin: 0.2em;color: black;border-radius: 0.25em;background-color: #f0f8ff;}#sk-container-id-3 input.sk-toggleable__control:checked~div.sk-toggleable__content {max-height: 200px;max-width: 100%;overflow: auto;}#sk-container-id-3 input.sk-toggleable__control:checked~label.sk-toggleable__label-arrow:before {content: \"▾\";}#sk-container-id-3 div.sk-estimator input.sk-toggleable__control:checked~label.sk-toggleable__label {background-color: #d4ebff;}#sk-container-id-3 div.sk-label input.sk-toggleable__control:checked~label.sk-toggleable__label {background-color: #d4ebff;}#sk-container-id-3 input.sk-hidden--visually {border: 0;clip: rect(1px 1px 1px 1px);clip: rect(1px, 1px, 1px, 1px);height: 1px;margin: -1px;overflow: hidden;padding: 0;position: absolute;width: 1px;}#sk-container-id-3 div.sk-estimator {font-family: monospace;background-color: #f0f8ff;border: 1px dotted black;border-radius: 0.25em;box-sizing: border-box;margin-bottom: 0.5em;}#sk-container-id-3 div.sk-estimator:hover {background-color: #d4ebff;}#sk-container-id-3 div.sk-parallel-item::after {content: \"\";width: 100%;border-bottom: 1px solid gray;flex-grow: 1;}#sk-container-id-3 div.sk-label:hover label.sk-toggleable__label {background-color: #d4ebff;}#sk-container-id-3 div.sk-serial::before {content: \"\";position: absolute;border-left: 1px solid gray;box-sizing: border-box;top: 0;bottom: 0;left: 50%;z-index: 0;}#sk-container-id-3 div.sk-serial {display: flex;flex-direction: column;align-items: center;background-color: white;padding-right: 0.2em;padding-left: 0.2em;position: relative;}#sk-container-id-3 div.sk-item {position: relative;z-index: 1;}#sk-container-id-3 div.sk-parallel {display: flex;align-items: stretch;justify-content: center;background-color: white;position: relative;}#sk-container-id-3 div.sk-item::before, #sk-container-id-3 div.sk-parallel-item::before {content: \"\";position: absolute;border-left: 1px solid gray;box-sizing: border-box;top: 0;bottom: 0;left: 50%;z-index: -1;}#sk-container-id-3 div.sk-parallel-item {display: flex;flex-direction: column;z-index: 1;position: relative;background-color: white;}#sk-container-id-3 div.sk-parallel-item:first-child::after {align-self: flex-end;width: 50%;}#sk-container-id-3 div.sk-parallel-item:last-child::after {align-self: flex-start;width: 50%;}#sk-container-id-3 div.sk-parallel-item:only-child::after {width: 0;}#sk-container-id-3 div.sk-dashed-wrapped {border: 1px dashed gray;margin: 0 0.4em 0.5em 0.4em;box-sizing: border-box;padding-bottom: 0.4em;background-color: white;}#sk-container-id-3 div.sk-label label {font-family: monospace;font-weight: bold;display: inline-block;line-height: 1.2em;}#sk-container-id-3 div.sk-label-container {text-align: center;}#sk-container-id-3 div.sk-container {/* jupyter's `normalize.less` sets `[hidden] { display: none; }` but bootstrap.min.css set `[hidden] { display: none !important; }` so we also need the `!important` here to be able to override the default hidden behavior on the sphinx rendered scikit-learn.org. See: https://github.com/scikit-learn/scikit-learn/issues/21755 */display: inline-block !important;position: relative;}#sk-container-id-3 div.sk-text-repr-fallback {display: none;}</style><div id=\"sk-container-id-3\" class=\"sk-top-container\"><div class=\"sk-text-repr-fallback\"><pre>GridSearchCV(estimator=KNeighborsClassifier(),\n",
       "             param_grid={&#x27;n_neighbors&#x27;: range(1, 15)})</pre><b>In a Jupyter environment, please rerun this cell to show the HTML representation or trust the notebook. <br />On GitHub, the HTML representation is unable to render, please try loading this page with nbviewer.org.</b></div><div class=\"sk-container\" hidden><div class=\"sk-item sk-dashed-wrapped\"><div class=\"sk-label-container\"><div class=\"sk-label sk-toggleable\"><input class=\"sk-toggleable__control sk-hidden--visually\" id=\"sk-estimator-id-3\" type=\"checkbox\" ><label for=\"sk-estimator-id-3\" class=\"sk-toggleable__label sk-toggleable__label-arrow\">GridSearchCV</label><div class=\"sk-toggleable__content\"><pre>GridSearchCV(estimator=KNeighborsClassifier(),\n",
       "             param_grid={&#x27;n_neighbors&#x27;: range(1, 15)})</pre></div></div></div><div class=\"sk-parallel\"><div class=\"sk-parallel-item\"><div class=\"sk-item\"><div class=\"sk-label-container\"><div class=\"sk-label sk-toggleable\"><input class=\"sk-toggleable__control sk-hidden--visually\" id=\"sk-estimator-id-4\" type=\"checkbox\" ><label for=\"sk-estimator-id-4\" class=\"sk-toggleable__label sk-toggleable__label-arrow\">estimator: KNeighborsClassifier</label><div class=\"sk-toggleable__content\"><pre>KNeighborsClassifier()</pre></div></div></div><div class=\"sk-serial\"><div class=\"sk-item\"><div class=\"sk-estimator sk-toggleable\"><input class=\"sk-toggleable__control sk-hidden--visually\" id=\"sk-estimator-id-5\" type=\"checkbox\" ><label for=\"sk-estimator-id-5\" class=\"sk-toggleable__label sk-toggleable__label-arrow\">KNeighborsClassifier</label><div class=\"sk-toggleable__content\"><pre>KNeighborsClassifier()</pre></div></div></div></div></div></div></div></div></div></div>"
      ],
      "text/plain": [
       "GridSearchCV(estimator=KNeighborsClassifier(),\n",
       "             param_grid={'n_neighbors': range(1, 15)})"
      ]
     },
     "execution_count": 50,
     "metadata": {},
     "output_type": "execute_result"
    }
   ],
   "source": [
    "gridsearch.fit(X_train, y_train)"
   ]
  },
  {
   "cell_type": "code",
   "execution_count": 51,
   "id": "76cef90e",
   "metadata": {},
   "outputs": [
    {
     "data": {
      "text/plain": [
       "{'n_neighbors': 5}"
      ]
     },
     "execution_count": 51,
     "metadata": {},
     "output_type": "execute_result"
    }
   ],
   "source": [
    "gridsearch.best_params_"
   ]
  },
  {
   "cell_type": "markdown",
   "id": "330a1aca",
   "metadata": {},
   "source": [
    "We infact did use 5 neighbors for our intial test"
   ]
  },
  {
   "cell_type": "markdown",
   "id": "de6bbc73",
   "metadata": {},
   "source": [
    "### Model 3: SVM modelling"
   ]
  },
  {
   "cell_type": "markdown",
   "id": "b3f8f8b0",
   "metadata": {},
   "source": [
    "#### Cross Validation first"
   ]
  },
  {
   "cell_type": "code",
   "execution_count": 52,
   "id": "fc9db3f8",
   "metadata": {},
   "outputs": [],
   "source": [
    "j = 0\n",
    "precision_svm_mat = np.zeros((1,5))\n",
    "recall_svm_mat = np.zeros((1,5))\n",
    "accuracy_svm_mat = np.zeros((1,5))\n",
    "\n",
    "for train_index, test_index in kfold.split(X_train, y_train):\n",
    "    \n",
    "    ### Training\n",
    "    X_train_train = X_train[train_index,:]\n",
    "    y_train_train = y_train[train_index]\n",
    "    \n",
    "    ### Holdout set\n",
    "    X_holdout = X_train[test_index,:]\n",
    "    y_holdout = y_train[test_index]\n",
    "       \n",
    "    \n",
    "    svc_rbf = SVC(kernel='rbf',C=1,gamma = 0.002)\n",
    "    \n",
    "    svc_rbf.fit(X_train_train,\n",
    "            y_train_train)\n",
    "    \n",
    "    y_preds = svc_rbf.predict(X_holdout)\n",
    "   \n",
    "    \n",
    "    precision_svm_mat[0,j] = precision_score(y_holdout, y_preds,average=\"binary\", pos_label=\"ad\")\n",
    "    recall_svm_mat[0,j] = recall_score(y_holdout, y_preds,average=\"binary\", pos_label=\"ad\")\n",
    "    accuracy_svm_mat[0,j] = accuracy_score(y_holdout, y_preds)\n",
    "    \n",
    "    \n",
    "    \n",
    "    j += 1\n",
    "    \n",
    "    "
   ]
  },
  {
   "cell_type": "code",
   "execution_count": 53,
   "id": "b9385af7",
   "metadata": {},
   "outputs": [
    {
     "data": {
      "image/png": "[encoded data removed]",
      "text/plain": [
       "<Figure size 800x500 with 1 Axes>"
      ]
     },
     "metadata": {},
     "output_type": "display_data"
    }
   ],
   "source": [
    "plt.figure(figsize=(8,5))\n",
    "plt.scatter(np.zeros(5), \n",
    "            precision_svm_mat[0,:], \n",
    "            s=60, \n",
    "            c='white',\n",
    "            edgecolor='black',\n",
    "            label=\"Precision\")\n",
    "plt.scatter(np.ones(5), \n",
    "            recall_svm_mat[0,:], \n",
    "            s=60, \n",
    "            c='black',\n",
    "            edgecolor='black',label =\"Recall\")\n",
    "\n",
    "plt.scatter(np.ones(5)*2, \n",
    "            accuracy_svm_mat[0,:], \n",
    "            s=60, \n",
    "            c='blue',\n",
    "            edgecolor='black',label =\"Accuracy\")\n",
    "\n",
    "plt.scatter([0,1,2], \n",
    "            [np.mean(precision_svm_mat, axis=1),np.mean(recall_svm_mat, axis=1),np.mean(accuracy_svm_mat, axis=1)], \n",
    "            s=60, \n",
    "            c='r',\n",
    "            marker='X',\n",
    "            label=\"Mean\")\n",
    "\n",
    "plt.legend(fontsize=12)\n",
    "\n",
    "plt.xticks([0,1,2],[\"Precision\", \"Recall\",\"Accuracy\"], fontsize=10)\n",
    "plt.yticks(fontsize=10)\n",
    "\n",
    "plt.xlabel(\"Metric\", fontsize=12)\n",
    "plt.ylabel(\"Precision, Recall and Accuracy - SVC\", fontsize=12)\n",
    "\n",
    "plt.show()"
   ]
  },
  {
   "cell_type": "code",
   "execution_count": 54,
   "id": "45316048",
   "metadata": {},
   "outputs": [],
   "source": [
    "svc_class = SVC(kernel='rbf',C=1,gamma = 0.002)\n",
    "svc_class.fit(X_train,\n",
    "            y_train)\n",
    "    \n",
    "y_preds = svc_class.predict(X_test)"
   ]
  },
  {
   "cell_type": "code",
   "execution_count": 55,
   "id": "50a9d711",
   "metadata": {},
   "outputs": [
    {
     "name": "stdout",
     "output_type": "stream",
     "text": [
      "Accuracy 0.625\n",
      "Precision: 0.6296296296296297\n",
      "Recall: 0.68\n"
     ]
    }
   ],
   "source": [
    "precision = precision_score(y_test, y_preds,average=\"binary\", pos_label=\"ad\")\n",
    "recall = recall_score(y_test, y_preds,average=\"binary\", pos_label=\"ad\")\n",
    "accuracy = accuracy_score(y_test, y_preds)\n",
    "print('Accuracy',accuracy)\n",
    "print(\"Precision:\", precision)\n",
    "print(\"Recall:\", recall)"
   ]
  },
  {
   "cell_type": "code",
   "execution_count": 56,
   "id": "3c614ce1",
   "metadata": {},
   "outputs": [
    {
     "data": {
      "image/png": "[encoded data removed]",
      "text/plain": [
       "<Figure size 640x480 with 2 Axes>"
      ]
     },
     "metadata": {},
     "output_type": "display_data"
    }
   ],
   "source": [
    "cm_new = confusion_matrix(y_test, y_preds)\n",
    "\n",
    "ConfusionMatrixDisplay(confusion_matrix=cm_new).plot();"
   ]
  },
  {
   "cell_type": "markdown",
   "id": "9b35293d",
   "metadata": {},
   "source": [
    "Overall, we see a maximum of 64% accuracy. The best model seems to be logistic regression. However, we consider these models to be baseline models. We are interested in developing a neural network model. Therefore, these baseline models provides us a basis to compare our neural network model."
   ]
  }
 ],
 "metadata": {
  "kernelspec": {
   "display_name": "Python 3 (ipykernel)",
   "language": "python",
   "name": "python3"
  },
  "language_info": {
   "codemirror_mode": {
    "name": "ipython",
    "version": 3
   },
   "file_extension": ".py",
   "mimetype": "text/x-python",
   "name": "python",
   "nbconvert_exporter": "python",
   "pygments_lexer": "ipython3",
   "version": "3.11.7"
  }
 },
 "nbformat": 4,
 "nbformat_minor": 5
}
